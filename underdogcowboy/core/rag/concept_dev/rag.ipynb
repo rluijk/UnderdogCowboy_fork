{
 "cells": [
  {
   "cell_type": "code",
   "execution_count": 1,
   "metadata": {},
   "outputs": [
    {
     "name": "stdout",
     "output_type": "stream",
     "text": [
      "Pre Release -- Early Access Version... Nov-Dec 2024\n",
      "If you do not have my Whatsapp, DM on linked-in for issues that need solving: https://www.linkedin.com/in/reneluijk/\n"
     ]
    },
    {
     "name": "stderr",
     "output_type": "stream",
     "text": [
      "DEBUG:faiss.loader:Environment variable FAISS_OPT_LEVEL is not set, so let's pick the instruction set according to the current CPU\n",
      "INFO:faiss.loader:Loading faiss.\n",
      "INFO:faiss.loader:Successfully loaded faiss.\n",
      "/Users/reneluijk/.pyenv/versions/3.12.6/lib/python3.12/site-packages/tqdm/auto.py:21: TqdmWarning: IProgress not found. Please update jupyter and ipywidgets. See https://ipywidgets.readthedocs.io/en/stable/user_install.html\n",
      "  from .autonotebook import tqdm as notebook_tqdm\n",
      "INFO:sentence_transformers.SentenceTransformer:Use pytorch device_name: mps\n",
      "INFO:sentence_transformers.SentenceTransformer:Load pretrained SentenceTransformer: all-MiniLM-L6-v2\n"
     ]
    },
    {
     "name": "stdout",
     "output_type": "stream",
     "text": [
      "Available providers:\n",
      "1. anthropic\n",
      "2. google-vertex\n",
      "3. groq\n",
      "\n",
      "Available models for anthropic:\n",
      "1. Claude 3.5 Sonnet (Upgrade) (claude-3-5-sonnet-20241022)\n",
      "2. Claude 3.5 Sonnet (claude-3-5-sonnet-20240620)\n",
      "3. Claude 3 Opus (claude-3-opus-20240229)\n",
      "4. Claude 3 Sonnet (claude-3-sonnet-20240229)\n",
      "5. Claude 3 Haiku (claude-3-haiku-20240307)\n",
      "anthropic provider initialized successfully for model claude-3-5-sonnet-20241022.\n",
      "Interactive mode started.\n"
     ]
    },
    {
     "data": {
      "text/plain": [
       "<underdogcowboy.core.dialog_manager.AgentDialogManager at 0x1069b7aa0>"
      ]
     },
     "execution_count": 1,
     "metadata": {},
     "output_type": "execute_result"
    }
   ],
   "source": [
    "from underdogcowboy import adm, agentclarity\n",
    "\n",
    "adm | [agentclarity]\n",
    "\n",
    "\n"
   ]
  },
  {
   "cell_type": "code",
   "execution_count": null,
   "metadata": {},
   "outputs": [
    {
     "ename": "SyntaxError",
     "evalue": "unmatched ')' (2018355707.py, line 4)",
     "output_type": "error",
     "traceback": [
      "\u001b[0;36m  Cell \u001b[0;32mIn[3], line 4\u001b[0;36m\u001b[0m\n\u001b[0;31m    print)(response)\u001b[0m\n\u001b[0m         ^\u001b[0m\n\u001b[0;31mSyntaxError\u001b[0m\u001b[0;31m:\u001b[0m unmatched ')'\n"
     ]
    }
   ],
   "source": [
    "\n",
    "question = \"This is the text file with some /Users/reneluijk/obsidian_vaults/workshop/workshop-materials/Cheat Sheets.md reference: \"\n",
    "response = agentclarity >> question\n",
    "print(response)\n"
   ]
  },
  {
   "cell_type": "code",
   "execution_count": null,
   "metadata": {},
   "outputs": [],
   "source": []
  }
 ],
 "metadata": {
  "kernelspec": {
   "display_name": "Python 3",
   "language": "python",
   "name": "python3"
  },
  "language_info": {
   "codemirror_mode": {
    "name": "ipython",
    "version": 3
   },
   "file_extension": ".py",
   "mimetype": "text/x-python",
   "name": "python",
   "nbconvert_exporter": "python",
   "pygments_lexer": "ipython3",
   "version": "3.12.6"
  }
 },
 "nbformat": 4,
 "nbformat_minor": 2
}
